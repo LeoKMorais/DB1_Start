{
 "cells": [
  {
   "cell_type": "markdown",
   "metadata": {},
   "source": [
    "Escreva um programa que execute uma função que encontre o maior número de uma lista passada por parâmetro:"
   ]
  },
  {
   "cell_type": "code",
   "execution_count": 4,
   "metadata": {},
   "outputs": [
    {
     "name": "stdout",
     "output_type": "stream",
     "text": [
      "O maior número da lista é 5.0\n"
     ]
    }
   ],
   "source": [
    "def maior_numero (lista):\n",
    "    return max(lista)\n",
    "\n",
    "lista = []\n",
    "while True:\n",
    "    opt = input('Digite um número da lista ou aperte X para encerrar: ')\n",
    "    try:\n",
    "        opt = float(opt)\n",
    "        lista.append(opt)\n",
    "    except:\n",
    "        if opt.upper() == 'X':\n",
    "            break\n",
    "print ('O maior número da lista é {}'.format(maior_numero(lista)))\n"
   ]
  },
  {
   "cell_type": "markdown",
   "metadata": {},
   "source": [
    "Escreva um programa que execute uma função que some todos os itens de uma lista passada por parâmetro:"
   ]
  },
  {
   "cell_type": "code",
   "execution_count": 5,
   "metadata": {},
   "outputs": [
    {
     "name": "stdout",
     "output_type": "stream",
     "text": [
      "A soma dos itens da lista é 10.0\n"
     ]
    }
   ],
   "source": [
    "def soma_numeros (lista):\n",
    "    return sum(lista)\n",
    "\n",
    "lista = []\n",
    "while True:\n",
    "    opt = input('Digite um número da lista ou aperte X para encerrar: ')\n",
    "    try:\n",
    "        opt = float(opt)\n",
    "        lista.append(opt)\n",
    "    except:\n",
    "        if opt.upper() == 'X':\n",
    "            break\n",
    "print ('A soma dos itens da lista é {}'.format(soma_numeros(lista)))"
   ]
  },
  {
   "cell_type": "markdown",
   "metadata": {},
   "source": [
    "Escreva um programa que execute uma função que multiplique todos os números de uma lista passada por parâmetro:"
   ]
  },
  {
   "cell_type": "code",
   "execution_count": 6,
   "metadata": {},
   "outputs": [
    {
     "name": "stdout",
     "output_type": "stream",
     "text": [
      "A multiplicação dos itens da lista é 6.0\n"
     ]
    }
   ],
   "source": [
    "def mult_numeros (lista):\n",
    "    mult = 1\n",
    "    for item in lista:\n",
    "        mult = mult*item\n",
    "    return mult\n",
    "\n",
    "lista = []\n",
    "while True:\n",
    "    opt = input('Digite um número da lista ou aperte X para encerrar: ')\n",
    "    try:\n",
    "        opt = float(opt)\n",
    "        lista.append(opt)\n",
    "    except:\n",
    "        if opt.upper() == 'X':\n",
    "            break\n",
    "print ('A multiplicação dos itens da lista é {}'.format(mult_numeros(lista)))"
   ]
  },
  {
   "cell_type": "markdown",
   "metadata": {},
   "source": [
    "Escreva um programa que execute uma função que retorne o inverso de uma string passada por parâmetro:"
   ]
  },
  {
   "cell_type": "code",
   "execution_count": 5,
   "metadata": {},
   "outputs": [
    {
     "name": "stdout",
     "output_type": "stream",
     "text": [
      "O inverso é odranoel\n"
     ]
    }
   ],
   "source": [
    "def inverso (string):\n",
    "    string_list = list(string)\n",
    "    novo_string = ''\n",
    "    for i in range(len(string_list)-1,-1,-1):\n",
    "        novo_string = novo_string + string_list[i]\n",
    "    return novo_string\n",
    "\n",
    "string = input('Digite uma string: ')\n",
    "print('O inverso é {}'.format(inverso(string)))     \n"
   ]
  },
  {
   "cell_type": "markdown",
   "metadata": {},
   "source": [
    "Escreva um programa que execute uma função que calcule o fatorial de um número passado por parâmetro:"
   ]
  },
  {
   "cell_type": "code",
   "execution_count": 7,
   "metadata": {},
   "outputs": [
    {
     "name": "stdout",
     "output_type": "stream",
     "text": [
      "O fatorial é 6\n"
     ]
    }
   ],
   "source": [
    "def fatorial (numero):\n",
    "    num = 1\n",
    "    for i in range(numero,0,-1):\n",
    "        num = num*i\n",
    "    return num\n",
    "\n",
    "numero = int(input('Digite um numero: '))\n",
    "print ('O fatorial é {}'.format(fatorial(numero)))"
   ]
  },
  {
   "cell_type": "markdown",
   "metadata": {},
   "source": [
    "Escreva um programa que execute uma função que conte o número de letras maiúsculas e minúsculas de um texto e que ao final, chame outra função para imprimir o resultado."
   ]
  },
  {
   "cell_type": "code",
   "execution_count": 12,
   "metadata": {},
   "outputs": [
    {
     "data": {
      "text/plain": [
       "'No texto há 3 maiúsculas e 6 minúsculas'"
      ]
     },
     "execution_count": 12,
     "metadata": {},
     "output_type": "execute_result"
    }
   ],
   "source": [
    "def resultado(maiusculas,minusculas):\n",
    "    return ('No texto há {} maiúsculas e {} minúsculas'.format(maiusculas,minusculas))\n",
    "\n",
    "def contador(string):\n",
    "    maiusc=0\n",
    "    minusc=0\n",
    "    for i in string:\n",
    "        if i == ' ':\n",
    "            pass\n",
    "        elif i == i.upper():\n",
    "            maiusc+=1\n",
    "        elif i == i.lower():\n",
    "            minusc+=1\n",
    "    return resultado(maiusc,minusc)\n",
    "\n",
    "string = input('Digite uma string: ')\n",
    "contador(string)\n",
    "    "
   ]
  },
  {
   "cell_type": "markdown",
   "metadata": {},
   "source": [
    "Escreva um programa Python que execute uma string que contenha um código Python."
   ]
  },
  {
   "cell_type": "code",
   "execution_count": 2,
   "metadata": {},
   "outputs": [
    {
     "name": "stdout",
     "output_type": "stream",
     "text": [
      "testando\n"
     ]
    }
   ],
   "source": [
    "def executar(code):\n",
    "    exec (code)\n",
    "\n",
    "string = input('Digite o código a ser executado')\n",
    "executar(string)\n",
    "\n",
    "# ATENÇÃO - O USO DESSE TIPO DE FUNÇÃO É CONTRAINDICADO, POR PERMITIR BRECHAS NO CÓDIGO E NO SERVIDOR"
   ]
  },
  {
   "cell_type": "markdown",
   "metadata": {},
   "source": [
    "Escreva um programa que execute uma função que receba um numero como parametro e verifique se o numero é primo ou não:"
   ]
  },
  {
   "cell_type": "code",
   "execution_count": 13,
   "metadata": {},
   "outputs": [
    {
     "data": {
      "text/plain": [
       "'O número é primo'"
      ]
     },
     "execution_count": 13,
     "metadata": {},
     "output_type": "execute_result"
    }
   ],
   "source": [
    "def primo (numero):\n",
    "    cont = 0\n",
    "    for i in range(1,numero+1,1):\n",
    "        if numero%i == 0:\n",
    "            cont +=1\n",
    "    if cont==2:\n",
    "        return('O número é primo')\n",
    "    return('O número não é primo')\n",
    "\n",
    "num = int(input('Digite um número'))\n",
    "primo(num)\n",
    "        "
   ]
  },
  {
   "cell_type": "markdown",
   "metadata": {},
   "source": [
    "Escreva um programa que execute uma função que valide se o numero informado é um numero perfeito ou não:"
   ]
  },
  {
   "cell_type": "code",
   "execution_count": 19,
   "metadata": {},
   "outputs": [
    {
     "data": {
      "text/plain": [
       "'Não é um número perfeito'"
      ]
     },
     "execution_count": 19,
     "metadata": {},
     "output_type": "execute_result"
    }
   ],
   "source": [
    "def perfeito (numero):\n",
    "    divisores = []\n",
    "    for i in range(1,numero+1,1):\n",
    "        if numero%i == 0:\n",
    "            divisores.append(i)\n",
    "    if sum(divisores)/2 == numero:\n",
    "        return (\"É um número perfeito\")\n",
    "    return (\"Não é um número perfeito\")\n",
    "\n",
    "num = int(input('Digite um número'))\n",
    "perfeito(num)"
   ]
  },
  {
   "cell_type": "markdown",
   "metadata": {},
   "source": [
    "Escreva uma função que imprima as primeiras n linhas do triangulo de pascal:"
   ]
  },
  {
   "cell_type": "code",
   "execution_count": 23,
   "metadata": {},
   "outputs": [
    {
     "name": "stdout",
     "output_type": "stream",
     "text": [
      "    1\n",
      "   1 1\n",
      "  1 2 1\n"
     ]
    }
   ],
   "source": [
    "def pascal (linhas):\n",
    "    for i in range (linhas):\n",
    "        print(' '*(linhas-i),' '.join(map(str, str(11**i))))\n",
    "\n",
    "linhas = int(input('Digite o npumero de linhas do triangulo: '))\n",
    "pascal(linhas)\n",
    "        "
   ]
  },
  {
   "cell_type": "code",
   "execution_count": null,
   "metadata": {},
   "outputs": [],
   "source": []
  }
 ],
 "metadata": {
  "interpreter": {
   "hash": "816e7a8d01c94780a5dd32ce023e3e49639550c741ad7be7f93ed920fd1d8db8"
  },
  "kernelspec": {
   "display_name": "Python 3.9.7 64-bit",
   "language": "python",
   "name": "python3"
  },
  "language_info": {
   "codemirror_mode": {
    "name": "ipython",
    "version": 3
   },
   "file_extension": ".py",
   "mimetype": "text/x-python",
   "name": "python",
   "nbconvert_exporter": "python",
   "pygments_lexer": "ipython3",
   "version": "3.9.7"
  },
  "orig_nbformat": 4
 },
 "nbformat": 4,
 "nbformat_minor": 2
}
