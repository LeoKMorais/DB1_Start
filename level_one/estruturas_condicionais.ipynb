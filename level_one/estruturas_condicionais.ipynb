{
 "cells": [
  {
   "cell_type": "code",
   "execution_count": 1,
   "metadata": {},
   "outputs": [],
   "source": [
    "def testa_num(numero):\n",
    "    while True: \n",
    "        try:\n",
    "            numero=float(numero.replace(',','.'))\n",
    "            return numero\n",
    "        except:\n",
    "            numero = input(\"ERRO: DIGITE APENAS NUMEROS \")"
   ]
  },
  {
   "cell_type": "markdown",
   "metadata": {},
   "source": [
    "Faça um Programa que peça dois números e imprima o maior deles:"
   ]
  },
  {
   "cell_type": "code",
   "execution_count": null,
   "metadata": {},
   "outputs": [],
   "source": [
    "num1 = testa_num(input('Digite um número: '))\n",
    "num2 = testa_num(input('Digite outro número: '))\n",
    "if num1!=num2:\n",
    "    print('O maior número é',max(num1,num2))\n",
    "else:\n",
    "    print('Os números são iguais!')"
   ]
  },
  {
   "cell_type": "markdown",
   "metadata": {},
   "source": [
    "Faça um Programa que peça um valor e mostre na tela se o valor é positivo ou negativo:"
   ]
  },
  {
   "cell_type": "code",
   "execution_count": null,
   "metadata": {},
   "outputs": [],
   "source": [
    "numero = testa_num(input('Digite um número: '))\n",
    "if numero>=0:\n",
    "    print('O número é positivo')\n",
    "else:\n",
    "    print('O número é negativo')"
   ]
  },
  {
   "cell_type": "markdown",
   "metadata": {},
   "source": [
    "Faça um Programa que verifique se uma letra digitada é \"F\"ou \"M\":"
   ]
  },
  {
   "cell_type": "code",
   "execution_count": null,
   "metadata": {},
   "outputs": [],
   "source": [
    "sexo = input('Digite o sexo (M ou F): ').upper()\n",
    "if sexo == 'M'  or sexo =='F':\n",
    "    if sexo =='M':\n",
    "        print('Sexo Masculino')\n",
    "    else:\n",
    "        print('Sexo Feminino')\n",
    "else:\n",
    "    print('Sexo Inválido')"
   ]
  },
  {
   "cell_type": "markdown",
   "metadata": {},
   "source": [
    "Faça um Programa que verifique se uma letra digitada é vogal ou consoante:"
   ]
  },
  {
   "cell_type": "code",
   "execution_count": null,
   "metadata": {},
   "outputs": [],
   "source": [
    "vogais = ['A','E','I','O','U']\n",
    "letra = input('Digite uma letra').upper()\n",
    "if letra.isalpha() and len(letra)==1:\n",
    "    if letra in vogais:\n",
    "        print('É uma vogal')\n",
    "    else:\n",
    "        print('É uma consoante')\n",
    "else:\n",
    "    print('ERRO: ENTRADA INVÁLIDA')"
   ]
  },
  {
   "cell_type": "markdown",
   "metadata": {},
   "source": [
    "Faça um programa para a leitura de duas notas parciais de um aluno, e decida se o aluno foi aprovado (média maior que sete), aprovado com distinção (media igual a 10) ou reprovado:"
   ]
  },
  {
   "cell_type": "code",
   "execution_count": null,
   "metadata": {},
   "outputs": [],
   "source": [
    "nota1 = testa_num(input('Digite a primeira nota: '))\n",
    "nota2 = testa_num(input('Digite a segunda nota: '))\n",
    "media= (nota1+nota2)/2\n",
    "if media >7:\n",
    "    if media ==10:\n",
    "        print('Aprovado com Distinção')\n",
    "    else:\n",
    "        print('Aprovado')\n",
    "else:\n",
    "    print('Reprovado')"
   ]
  },
  {
   "cell_type": "markdown",
   "metadata": {},
   "source": [
    "Faça um programa para o cálculo de uma folha de pagamento, que receba as horas trabalhadas e o valor por hora, calcule o salário bruto e o salário líquido (salário bruto deduzido de 3% e mais um percentual do IR):"
   ]
  },
  {
   "cell_type": "code",
   "execution_count": null,
   "metadata": {},
   "outputs": [],
   "source": [
    "horas = testa_num(input('Digite a quantidade de horas trabalhadas: '))\n",
    "valor_hora = testa_num(input('Digite o valor da hora trabalhada: '))\n",
    "salario_bruto=horas*valor_hora\n",
    "fgts = salario_bruto*0.11\n",
    "if 900<salario_bruto<=1500:\n",
    "    ir = 0.05\n",
    "elif 1500<salario_bruto<=2500:\n",
    "    ir = 0.1\n",
    "elif salario_bruto>2500:\n",
    "    ir = 0.2\n",
    "else:\n",
    "    ir = 0\n",
    "salario_liquido = salario_bruto-(salario_bruto*0.03)-(salario_bruto*ir)\n",
    "print('Salário Líquido:',salario_liquido,'\\nValor FGTS:',fgts,'\\nDesconto IR:',salario_bruto*ir)"
   ]
  },
  {
   "cell_type": "markdown",
   "metadata": {},
   "source": [
    "Faça um programa que calcule as raízes de uma equação do segundo grau, na forma ax2 + bx + c :"
   ]
  },
  {
   "cell_type": "code",
   "execution_count": null,
   "metadata": {},
   "outputs": [],
   "source": [
    "a = testa_num(input('Digite o valor de A: '))\n",
    "if a == 0:\n",
    "    raise ValueError('O valor de A não pode ser 0!')\n",
    "b = testa_num(input('Digite o valor de B: '))\n",
    "c = testa_num(input('Digite o valor de C: '))\n",
    "if b == 0:\n",
    "    raiz1 = ((-c/a)**.5) #a operação **0.5, ou ^1/2, equivale à raiz quadrada.\n",
    "    raiz2 = -((-c/a)**.5)\n",
    "elif c == 0:\n",
    "    raiz1 = 0\n",
    "    raiz2 = -b/a\n",
    "else:\n",
    "    raiz1 = ((-b+((b**2)-4*a*c)**.5)/2*a)\n",
    "    raiz2 = ((-b-((b**2)-4*a*c)**.5)/2*a)\n",
    "print('As raizes da equação são:',raiz1,'e',raiz2)"
   ]
  }
 ],
 "metadata": {
  "interpreter": {
   "hash": "816e7a8d01c94780a5dd32ce023e3e49639550c741ad7be7f93ed920fd1d8db8"
  },
  "kernelspec": {
   "display_name": "Python 3.9.7 64-bit",
   "language": "python",
   "name": "python3"
  },
  "language_info": {
   "codemirror_mode": {
    "name": "ipython",
    "version": 3
   },
   "file_extension": ".py",
   "mimetype": "text/x-python",
   "name": "python",
   "nbconvert_exporter": "python",
   "pygments_lexer": "ipython3",
   "version": "3.9.7"
  },
  "orig_nbformat": 4
 },
 "nbformat": 4,
 "nbformat_minor": 2
}
