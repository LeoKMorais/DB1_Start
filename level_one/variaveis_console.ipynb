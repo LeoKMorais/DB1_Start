{
 "cells": [
  {
   "cell_type": "code",
   "execution_count": null,
   "metadata": {},
   "outputs": [],
   "source": [
    "def testa_num(numero):\n",
    "    while True: \n",
    "        try:\n",
    "            numero=float(numero.replace(',','.'))\n",
    "            return numero\n",
    "        except:\n",
    "            numero = input(\"ERRO: DIGITE APENAS NUMEROS \")"
   ]
  },
  {
   "cell_type": "markdown",
   "metadata": {},
   "source": [
    "1 - Programa para printar Alo Mundo:"
   ]
  },
  {
   "cell_type": "code",
   "execution_count": null,
   "metadata": {},
   "outputs": [],
   "source": [
    "print('Alô Mundo!')"
   ]
  },
  {
   "cell_type": "markdown",
   "metadata": {},
   "source": [
    "2 - Faça um Programa que peça um número e então mostre a mensagem 'O número informado foi [número].':"
   ]
  },
  {
   "cell_type": "code",
   "execution_count": null,
   "metadata": {},
   "outputs": [],
   "source": [
    "num = testa_num(input(\"Digite um número: \"))\n",
    "print('O número informado foi:',num)"
   ]
  },
  {
   "cell_type": "markdown",
   "metadata": {},
   "source": [
    "3 - Faça um Programa que peça dois números e imprima a soma:"
   ]
  },
  {
   "cell_type": "code",
   "execution_count": null,
   "metadata": {},
   "outputs": [],
   "source": [
    "numero1 = testa_num(input(\"Digite um número: \"))\n",
    "numero2 = testa_num(input(\"Digite mais um número: \"))\n",
    "print('A soma é:',numero1+numero2)"
   ]
  },
  {
   "cell_type": "markdown",
   "metadata": {},
   "source": [
    "4 - Faça um Programa que peça as 4 notas bimestrais e mostre a média:"
   ]
  },
  {
   "cell_type": "code",
   "execution_count": null,
   "metadata": {},
   "outputs": [],
   "source": [
    "nota1 = testa_num(input(\"Digite a primeira nota: \"))\n",
    "nota2 = testa_num(input(\"Digite a segunda nota: \"))\n",
    "nota3 = testa_num(input(\"Digite a terceira nota: \"))\n",
    "nota4 = testa_num(input(\"Digite a quarta nota: \"))\n",
    "print('A média é:', (nota1+nota2+nota3+nota4)/4)"
   ]
  },
  {
   "cell_type": "markdown",
   "metadata": {},
   "source": [
    "5 - Faça um Programa que converta metros para centímetros:"
   ]
  },
  {
   "cell_type": "code",
   "execution_count": null,
   "metadata": {},
   "outputs": [],
   "source": [
    "metros = testa_num(input(\"Digite o valor em metros: \"))\n",
    "print ('O Valor em centímetros é:', metros*100)"
   ]
  },
  {
   "cell_type": "markdown",
   "metadata": {},
   "source": [
    "6 - Faça um Programa que peça o raio de um círculo, calcule e mostre sua área:"
   ]
  },
  {
   "cell_type": "code",
   "execution_count": null,
   "metadata": {},
   "outputs": [],
   "source": [
    "raio = testa_num(input(\"Digite o raio do círculo: \"))\n",
    "area = 3.14*(raio**2)\n",
    "print(\"Área do círculo = %.2f\" %area)"
   ]
  },
  {
   "cell_type": "markdown",
   "metadata": {},
   "source": [
    "7 - Faça um Programa que calcule a área de um quadrado, em seguida mostre o dobro desta área para o usuário:"
   ]
  },
  {
   "cell_type": "code",
   "execution_count": null,
   "metadata": {},
   "outputs": [],
   "source": [
    "lado = testa_num(input(\"Digite o valor do lado do quadrado: \"))\n",
    "area = lado**2\n",
    "print(\"Dobro da área do quadrado = %.2f\" %(area*2))"
   ]
  }
 ],
 "metadata": {
  "interpreter": {
   "hash": "816e7a8d01c94780a5dd32ce023e3e49639550c741ad7be7f93ed920fd1d8db8"
  },
  "kernelspec": {
   "display_name": "Python 3.9.7 64-bit",
   "language": "python",
   "name": "python3"
  },
  "language_info": {
   "codemirror_mode": {
    "name": "ipython",
    "version": 3
   },
   "file_extension": ".py",
   "mimetype": "text/x-python",
   "name": "python",
   "nbconvert_exporter": "python",
   "pygments_lexer": "ipython3",
   "version": "3.9.7"
  },
  "orig_nbformat": 4
 },
 "nbformat": 4,
 "nbformat_minor": 2
}
