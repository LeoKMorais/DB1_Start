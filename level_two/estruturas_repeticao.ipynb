{
 "cells": [
  {
   "cell_type": "code",
   "execution_count": null,
   "metadata": {},
   "outputs": [],
   "source": [
    "def testa_num(numero):\n",
    "    while True: \n",
    "        try:\n",
    "            numero=float(numero.replace(',','.'))\n",
    "            return numero\n",
    "        except:\n",
    "            numero = input(\"ERRO: DIGITE APENAS NUMEROS \")"
   ]
  },
  {
   "cell_type": "markdown",
   "metadata": {},
   "source": [
    "Faça um Programa que peça dois números e imprima a soma:"
   ]
  },
  {
   "cell_type": "code",
   "execution_count": null,
   "metadata": {},
   "outputs": [],
   "source": [
    "soma=0\n",
    "for i in range (2):\n",
    "    num = testa_num(input('Digite um número: '))\n",
    "    soma+=num\n",
    "print ('Soma:',soma)"
   ]
  },
  {
   "cell_type": "markdown",
   "metadata": {},
   "source": [
    "Faça um Programa que peça as 4 notas bimestrais e mostre a média:"
   ]
  },
  {
   "cell_type": "code",
   "execution_count": null,
   "metadata": {},
   "outputs": [],
   "source": [
    "soma=0\n",
    "cont=0\n",
    "for i in range(4):\n",
    "    nota = testa_num(input('Digite uma nota: '))\n",
    "    cont+=1\n",
    "    soma+=nota\n",
    "print ('Média:',soma/cont)"
   ]
  },
  {
   "cell_type": "markdown",
   "metadata": {},
   "source": [
    "Faça um Programa que peça dois números e imprima o maior deles:"
   ]
  },
  {
   "cell_type": "code",
   "execution_count": null,
   "metadata": {},
   "outputs": [],
   "source": [
    "maior_num = testa_num (input('Digite um numero: '))\n",
    "novo_num = testa_num (input('Digite um numero: '))\n",
    "if novo_num > maior_num:\n",
    "    maior_num = novo_num\n",
    "print('Maior número:',maior_num)"
   ]
  },
  {
   "cell_type": "markdown",
   "metadata": {},
   "source": [
    "Faça um Programa que leia três números e mostre o maior deles"
   ]
  },
  {
   "cell_type": "code",
   "execution_count": null,
   "metadata": {},
   "outputs": [],
   "source": [
    "maior_num = testa_num (input('Digite um numero: '))\n",
    "for i in range (2):    \n",
    "    novo_num = testa_num (input('Digite um numero: '))\n",
    "    if novo_num > maior_num:\n",
    "        maior_num = novo_num\n",
    "print('Maior número:',maior_num)"
   ]
  },
  {
   "cell_type": "markdown",
   "metadata": {},
   "source": [
    "Faça um Programa que leia três números e mostre o maior e o menor deles:"
   ]
  },
  {
   "cell_type": "code",
   "execution_count": null,
   "metadata": {},
   "outputs": [],
   "source": [
    "maior_num = testa_num (input('Digite um numero: '))\n",
    "menor_num = maior_num\n",
    "for i in range (2):    \n",
    "    novo_num = testa_num (input('Digite um numero: '))\n",
    "    if novo_num > menor_num:\n",
    "        if novo_num >= maior_num:\n",
    "            maior_num = novo_num\n",
    "    else:\n",
    "        menor_num = novo_num\n",
    "print('Maior numero: ',maior_num,'\\nMenor numero: ',menor_num)"
   ]
  },
  {
   "cell_type": "markdown",
   "metadata": {},
   "source": [
    "Faça um programa que pergunte o preço de três produtos e informe qual produto você deve comprar, sabendo que a decisão é sempre pelo mais barato:"
   ]
  },
  {
   "cell_type": "code",
   "execution_count": null,
   "metadata": {},
   "outputs": [],
   "source": [
    "print('Digite o valor do produto 1')\n",
    "menor_preco = testa_num (input())\n",
    "for i in range (2,4):\n",
    "    print('Digite o valor do produto',i)\n",
    "    produto = testa_num (input())\n",
    "    if produto <= menor_preco:\n",
    "        menor_preco = produto\n",
    "        num_produto = i\n",
    "    else:\n",
    "        num_produto = 1\n",
    "\n",
    "print('O mais barato é o produto',num_produto,'de preço',menor_preco)"
   ]
  },
  {
   "cell_type": "markdown",
   "metadata": {},
   "source": [
    "Faça um Programa que leia três números e mostre-os em ordem decrescente:"
   ]
  },
  {
   "cell_type": "code",
   "execution_count": null,
   "metadata": {},
   "outputs": [],
   "source": [
    "maior_num = testa_num (input('Digite um numero: '))\n",
    "menor_num = maior_num\n",
    "for i in range (2):    \n",
    "    novo_num = testa_num (input('Digite um numero: '))\n",
    "    if novo_num > menor_num:\n",
    "        if novo_num >= maior_num:\n",
    "            maior_num = novo_num\n",
    "            num_meio = maior_num\n",
    "        else:\n",
    "            num_meio = novo_num\n",
    "    else:\n",
    "        num_meio = menor_num\n",
    "        menor_num = novo_num\n",
    "print('Numeros em ordem: ',maior_num,num_meio,menor_num)"
   ]
  }
 ],
 "metadata": {
  "language_info": {
   "name": "python"
  },
  "orig_nbformat": 4
 },
 "nbformat": 4,
 "nbformat_minor": 2
}
