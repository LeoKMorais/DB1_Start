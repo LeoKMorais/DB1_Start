{
 "cells": [
  {
   "cell_type": "markdown",
   "metadata": {},
   "source": [
    "Escreva um programa que some todos os itens de uma\n",
    "lista:\n"
   ]
  },
  {
   "cell_type": "code",
   "execution_count": 27,
   "metadata": {},
   "outputs": [
    {
     "name": "stdout",
     "output_type": "stream",
     "text": [
      "15\n"
     ]
    }
   ],
   "source": [
    "lista = [1,2,3,4,5]\n",
    "soma=0\n",
    "for item in lista:\n",
    "    soma = soma + item\n",
    "print(soma)"
   ]
  },
  {
   "cell_type": "markdown",
   "metadata": {},
   "source": [
    "Escreva um programa que multiplique todos os itens de\n",
    "uma lista:"
   ]
  },
  {
   "cell_type": "code",
   "execution_count": 2,
   "metadata": {},
   "outputs": [
    {
     "name": "stdout",
     "output_type": "stream",
     "text": [
      "120\n"
     ]
    }
   ],
   "source": [
    "lista = [1,2,3,4,5]\n",
    "mult=1\n",
    "for item in lista:\n",
    "    mult = mult * item\n",
    "print(mult)"
   ]
  },
  {
   "cell_type": "markdown",
   "metadata": {},
   "source": [
    "Escreva um programa que retorne o maior e o menor\n",
    "número de uma lista:"
   ]
  },
  {
   "cell_type": "code",
   "execution_count": 3,
   "metadata": {},
   "outputs": [
    {
     "name": "stdout",
     "output_type": "stream",
     "text": [
      "Maior número: 5, Menor número: 1\n"
     ]
    }
   ],
   "source": [
    "lista = [1,2,3,4,5]\n",
    "for i in range (len(lista)):\n",
    "    if i == 0:\n",
    "        maior_num = menor_num = lista[i]\n",
    "    if i>0: \n",
    "        if lista[i] < menor_num:\n",
    "            menor_num = lista[i]\n",
    "        elif lista[i] > maior_num:\n",
    "            maior_num = lista[i]\n",
    "print('Maior número: {}, Menor número: {}'.format(maior_num,menor_num))"
   ]
  },
  {
   "cell_type": "markdown",
   "metadata": {},
   "source": [
    "Escreva um programa que conte o número de vezes que cada caractere se repete em uma string:"
   ]
  },
  {
   "cell_type": "code",
   "execution_count": 4,
   "metadata": {},
   "outputs": [
    {
     "name": "stdout",
     "output_type": "stream",
     "text": [
      "{'l': 4, 'o': 3, 'a': 3, 'p': 1, 'z': 1}\n"
     ]
    }
   ],
   "source": [
    "dict_string={}\n",
    "string = 'lollapalooza'\n",
    "for i in string:\n",
    "    if i in dict_string:\n",
    "        dict_string[i] +=1\n",
    "    else:\n",
    "        dict_string[i] = 1\n",
    "print(dict_string)"
   ]
  },
  {
   "cell_type": "markdown",
   "metadata": {},
   "source": [
    "Escreva um programa que conte quantas string tenham tamanho maior que 2 e o primeiro e último caracteres sejam iguais:"
   ]
  },
  {
   "cell_type": "code",
   "execution_count": 10,
   "metadata": {},
   "outputs": [
    {
     "name": "stdout",
     "output_type": "stream",
     "text": [
      "1 strings: ['agua']\n"
     ]
    }
   ],
   "source": [
    "frase = 'Olha olha olha olha agua mineral'\n",
    "lista = frase.split()\n",
    "lista_boa = []\n",
    "cont = 0\n",
    "for item in lista:\n",
    "    if len(item) > 2:\n",
    "        if item[0] == item[-1]:\n",
    "            cont +=1\n",
    "            lista_boa.append(item)\n",
    "print(cont,'strings: {}'.format(lista_boa))"
   ]
  },
  {
   "cell_type": "markdown",
   "metadata": {},
   "source": [
    "Escreva um programa que ordene em ordem crescente uma lista de tuplas informadas, pelo último item da tupla:"
   ]
  },
  {
   "cell_type": "code",
   "execution_count": 14,
   "metadata": {},
   "outputs": [
    {
     "name": "stdout",
     "output_type": "stream",
     "text": [
      "[(1, 1), (5, 2), (5, 3), (2, 4), (1, 5)]\n"
     ]
    }
   ],
   "source": [
    "lista = [(1,1),(1,5),(2,4),(5,2),(5,3)]\n",
    "lista_org = sorted(lista, key=lambda item:item[1])\n",
    "print(lista_org)"
   ]
  },
  {
   "cell_type": "markdown",
   "metadata": {},
   "source": [
    "Escreva um programa que adicione uma chave (key) a um dicionário:"
   ]
  },
  {
   "cell_type": "code",
   "execution_count": 15,
   "metadata": {},
   "outputs": [
    {
     "name": "stdout",
     "output_type": "stream",
     "text": [
      "{1: 'a', 2: 'b', 3: 'c', 4: 'd'}\n"
     ]
    }
   ],
   "source": [
    "dict_1 = {1:'a',2:'b',3:'c'}\n",
    "dict_1[4]='d'\n",
    "print(dict_1)\n"
   ]
  },
  {
   "cell_type": "markdown",
   "metadata": {},
   "source": [
    "Escreva um programa que concatene os dicionários abaixo e crie um novo:\n",
    "* dic1={1:10, 2:20}\n",
    "* dic2={3:30, 4:40}\n",
    "* dic3={5:50,6:60}\n",
    "\n",
    "Resultado esperado: {1: 10, 2: 20, 3: 30, 4: 40, 5: 50, 6: 60}"
   ]
  },
  {
   "cell_type": "code",
   "execution_count": 21,
   "metadata": {},
   "outputs": [
    {
     "name": "stdout",
     "output_type": "stream",
     "text": [
      "{1: 10, 2: 20, 3: 30, 4: 40, 5: 50, 6: 60}\n"
     ]
    }
   ],
   "source": [
    "dic1 = {1:10,2:20}\n",
    "dic2 = {3:30,4:40}\n",
    "dic3 = {5:50,6:60}\n",
    "dics = [dic1,dic2,dic3]\n",
    "dic= {}\n",
    "for item in dics:\n",
    "    for keys in item:\n",
    "        dic[keys]=item[keys]\n",
    "print (dic)"
   ]
  },
  {
   "cell_type": "markdown",
   "metadata": {},
   "source": [
    "Escreva um programa que leia chaves e valores, crie um dicionário, e depois, verifique se uma chave informada existe em um dicionário.\n"
   ]
  },
  {
   "cell_type": "code",
   "execution_count": 25,
   "metadata": {},
   "outputs": [
    {
     "name": "stdout",
     "output_type": "stream",
     "text": [
      "Chave já existe\n"
     ]
    }
   ],
   "source": [
    "chaves = list(input('Digite as chaves separadas por espaço: '))\n",
    "valores = list(input('Digite os valores separados por espaço: '))\n",
    "if len(chaves)!=len(valores):\n",
    "    raise KeyError ('Quantidade de chaves diferente da quantidade de valores')\n",
    "chave = input('Digite a nova chave: ')\n",
    "dict1 = {}\n",
    "for i in range(len(chaves)):\n",
    "    dict1[chaves[i]] = valores[i]\n",
    "if chave in dict1.keys():\n",
    "    print('Chave já existe no dicionário')\n",
    "else:\n",
    "    print('Chave não existe no dicionário')"
   ]
  },
  {
   "cell_type": "markdown",
   "metadata": {},
   "source": [
    "Escreva um programa que itere em um dicionário utilizando loops."
   ]
  },
  {
   "cell_type": "code",
   "execution_count": 28,
   "metadata": {},
   "outputs": [
    {
     "name": "stdout",
     "output_type": "stream",
     "text": [
      "(1, 'a')\n",
      "(2, 'b')\n",
      "(3, 'c')\n"
     ]
    }
   ],
   "source": [
    "dic = {1:'a',2:'b',3:'c'}\n",
    "for item in dic.items():\n",
    "    print(item)"
   ]
  },
  {
   "cell_type": "markdown",
   "metadata": {},
   "source": [
    "Escreva um programa que remova itens duplicados de\n",
    "uma lista:"
   ]
  },
  {
   "cell_type": "code",
   "execution_count": 2,
   "metadata": {},
   "outputs": [
    {
     "name": "stdout",
     "output_type": "stream",
     "text": [
      "[0, 1, 2, 3, 4, 5, 6]\n"
     ]
    }
   ],
   "source": [
    "lista = [0,1,2,2,3,4,4,4,5,6,6]\n",
    "lista_nova = []\n",
    "[lista_nova.append(item) for item in lista if item not in lista_nova]\n",
    "print(lista_nova)"
   ]
  },
  {
   "cell_type": "markdown",
   "metadata": {},
   "source": [
    "Escreva um programa que verifique se uma lista está\n",
    "vazia ou não:"
   ]
  },
  {
   "cell_type": "code",
   "execution_count": 8,
   "metadata": {},
   "outputs": [
    {
     "name": "stdout",
     "output_type": "stream",
     "text": [
      "lista vazia\n"
     ]
    }
   ],
   "source": [
    "lista=list(input('digite os valores da lista'))\n",
    "print('lista vazia') if len(lista)==0 else print ('lista não vazia')"
   ]
  },
  {
   "cell_type": "markdown",
   "metadata": {},
   "source": [
    "Escreva um programa que clone ou copie uma lista:"
   ]
  },
  {
   "cell_type": "code",
   "execution_count": 9,
   "metadata": {},
   "outputs": [
    {
     "name": "stdout",
     "output_type": "stream",
     "text": [
      "[0, 1, 2, 2, 3, 4, 4, 4, 5, 6, 6]\n"
     ]
    }
   ],
   "source": [
    "lista = [0,1,2,2,3,4,4,4,5,6,6]\n",
    "lista_nova = []\n",
    "[lista_nova.append(item) for item in lista]\n",
    "print(lista_nova)"
   ]
  }
 ],
 "metadata": {
  "interpreter": {
   "hash": "816e7a8d01c94780a5dd32ce023e3e49639550c741ad7be7f93ed920fd1d8db8"
  },
  "kernelspec": {
   "display_name": "Python 3.9.7 64-bit",
   "language": "python",
   "name": "python3"
  },
  "language_info": {
   "codemirror_mode": {
    "name": "ipython",
    "version": 3
   },
   "file_extension": ".py",
   "mimetype": "text/x-python",
   "name": "python",
   "nbconvert_exporter": "python",
   "pygments_lexer": "ipython3",
   "version": "3.9.7"
  },
  "orig_nbformat": 4
 },
 "nbformat": 4,
 "nbformat_minor": 2
}
